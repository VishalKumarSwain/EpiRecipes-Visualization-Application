{
 "cells": [
  {
   "cell_type": "code",
   "execution_count": 1,
   "id": "74eb2421",
   "metadata": {},
   "outputs": [],
   "source": [
    "import pandas as pd\n",
    "import numpy as np\n",
    "import matplotlib.pyplot as plt\n",
    "import seaborn as sns"
   ]
  },
  {
   "cell_type": "code",
   "execution_count": 2,
   "id": "82e4a713",
   "metadata": {},
   "outputs": [],
   "source": [
    "df=pd.read_csv(\"epi_r.csv\")"
   ]
  },
  {
   "cell_type": "code",
   "execution_count": 3,
   "id": "2259c24e",
   "metadata": {},
   "outputs": [
    {
     "data": {
      "text/html": [
       "<div>\n",
       "<style scoped>\n",
       "    .dataframe tbody tr th:only-of-type {\n",
       "        vertical-align: middle;\n",
       "    }\n",
       "\n",
       "    .dataframe tbody tr th {\n",
       "        vertical-align: top;\n",
       "    }\n",
       "\n",
       "    .dataframe thead th {\n",
       "        text-align: right;\n",
       "    }\n",
       "</style>\n",
       "<table border=\"1\" class=\"dataframe\">\n",
       "  <thead>\n",
       "    <tr style=\"text-align: right;\">\n",
       "      <th></th>\n",
       "      <th>title</th>\n",
       "      <th>rating</th>\n",
       "      <th>calories</th>\n",
       "      <th>protein</th>\n",
       "      <th>fat</th>\n",
       "      <th>sodium</th>\n",
       "      <th>#cakeweek</th>\n",
       "      <th>#wasteless</th>\n",
       "      <th>22-minute meals</th>\n",
       "      <th>3-ingredient recipes</th>\n",
       "      <th>...</th>\n",
       "      <th>yellow squash</th>\n",
       "      <th>yogurt</th>\n",
       "      <th>yonkers</th>\n",
       "      <th>yuca</th>\n",
       "      <th>zucchini</th>\n",
       "      <th>cookbooks</th>\n",
       "      <th>leftovers</th>\n",
       "      <th>snack</th>\n",
       "      <th>snack week</th>\n",
       "      <th>turkey</th>\n",
       "    </tr>\n",
       "  </thead>\n",
       "  <tbody>\n",
       "    <tr>\n",
       "      <th>0</th>\n",
       "      <td>Lentil, Apple, and Turkey Wrap</td>\n",
       "      <td>2.500</td>\n",
       "      <td>426.0</td>\n",
       "      <td>30.0</td>\n",
       "      <td>7.0</td>\n",
       "      <td>559.0</td>\n",
       "      <td>0.0</td>\n",
       "      <td>0.0</td>\n",
       "      <td>0.0</td>\n",
       "      <td>0.0</td>\n",
       "      <td>...</td>\n",
       "      <td>0.0</td>\n",
       "      <td>0.0</td>\n",
       "      <td>0.0</td>\n",
       "      <td>0.0</td>\n",
       "      <td>0.0</td>\n",
       "      <td>0.0</td>\n",
       "      <td>0.0</td>\n",
       "      <td>0.0</td>\n",
       "      <td>0.0</td>\n",
       "      <td>1.0</td>\n",
       "    </tr>\n",
       "    <tr>\n",
       "      <th>1</th>\n",
       "      <td>Boudin Blanc Terrine with Red Onion Confit</td>\n",
       "      <td>4.375</td>\n",
       "      <td>403.0</td>\n",
       "      <td>18.0</td>\n",
       "      <td>23.0</td>\n",
       "      <td>1439.0</td>\n",
       "      <td>0.0</td>\n",
       "      <td>0.0</td>\n",
       "      <td>0.0</td>\n",
       "      <td>0.0</td>\n",
       "      <td>...</td>\n",
       "      <td>0.0</td>\n",
       "      <td>0.0</td>\n",
       "      <td>0.0</td>\n",
       "      <td>0.0</td>\n",
       "      <td>0.0</td>\n",
       "      <td>0.0</td>\n",
       "      <td>0.0</td>\n",
       "      <td>0.0</td>\n",
       "      <td>0.0</td>\n",
       "      <td>0.0</td>\n",
       "    </tr>\n",
       "  </tbody>\n",
       "</table>\n",
       "<p>2 rows × 680 columns</p>\n",
       "</div>"
      ],
      "text/plain": [
       "                                         title  rating  calories  protein  \\\n",
       "0              Lentil, Apple, and Turkey Wrap    2.500     426.0     30.0   \n",
       "1  Boudin Blanc Terrine with Red Onion Confit    4.375     403.0     18.0   \n",
       "\n",
       "    fat  sodium  #cakeweek  #wasteless  22-minute meals  3-ingredient recipes  \\\n",
       "0   7.0   559.0        0.0         0.0              0.0                   0.0   \n",
       "1  23.0  1439.0        0.0         0.0              0.0                   0.0   \n",
       "\n",
       "   ...  yellow squash  yogurt  yonkers  yuca  zucchini  cookbooks  leftovers  \\\n",
       "0  ...            0.0     0.0      0.0   0.0       0.0        0.0        0.0   \n",
       "1  ...            0.0     0.0      0.0   0.0       0.0        0.0        0.0   \n",
       "\n",
       "   snack  snack week  turkey  \n",
       "0    0.0         0.0     1.0  \n",
       "1    0.0         0.0     0.0  \n",
       "\n",
       "[2 rows x 680 columns]"
      ]
     },
     "execution_count": 3,
     "metadata": {},
     "output_type": "execute_result"
    }
   ],
   "source": [
    "df.head(2)"
   ]
  },
  {
   "cell_type": "code",
   "execution_count": 4,
   "id": "5b6df67e",
   "metadata": {},
   "outputs": [
    {
     "data": {
      "text/plain": [
       "(20052, 680)"
      ]
     },
     "execution_count": 4,
     "metadata": {},
     "output_type": "execute_result"
    }
   ],
   "source": [
    "df.shape"
   ]
  },
  {
   "cell_type": "code",
   "execution_count": 8,
   "id": "a9cf2f50",
   "metadata": {},
   "outputs": [],
   "source": [
    "def impute_missing_values(df):\n",
    "    for column in df.columns:\n",
    "        if df[column].isnull().sum() > 0:\n",
    "            if df[column].skew() > 1:  # Highly skewed\n",
    "                df[column].fillna(df[column].median(), inplace=True)\n",
    "            else:\n",
    "                df[column].fillna(df[column].mean(), inplace=True)\n",
    "    return df\n"
   ]
  },
  {
   "cell_type": "code",
   "execution_count": 9,
   "id": "01d99254",
   "metadata": {},
   "outputs": [
    {
     "name": "stderr",
     "output_type": "stream",
     "text": [
      "C:\\Users\\KIRAN\\AppData\\Local\\Temp\\ipykernel_16292\\2256598577.py:5: FutureWarning: A value is trying to be set on a copy of a DataFrame or Series through chained assignment using an inplace method.\n",
      "The behavior will change in pandas 3.0. This inplace method will never work because the intermediate object on which we are setting values always behaves as a copy.\n",
      "\n",
      "For example, when doing 'df[col].method(value, inplace=True)', try using 'df.method({col: value}, inplace=True)' or df[col] = df[col].method(value) instead, to perform the operation inplace on the original object.\n",
      "\n",
      "\n",
      "  df[column].fillna(df[column].median(), inplace=True)\n",
      "C:\\Users\\KIRAN\\AppData\\Local\\Temp\\ipykernel_16292\\2256598577.py:5: FutureWarning: A value is trying to be set on a copy of a DataFrame or Series through chained assignment using an inplace method.\n",
      "The behavior will change in pandas 3.0. This inplace method will never work because the intermediate object on which we are setting values always behaves as a copy.\n",
      "\n",
      "For example, when doing 'df[col].method(value, inplace=True)', try using 'df.method({col: value}, inplace=True)' or df[col] = df[col].method(value) instead, to perform the operation inplace on the original object.\n",
      "\n",
      "\n",
      "  df[column].fillna(df[column].median(), inplace=True)\n",
      "C:\\Users\\KIRAN\\AppData\\Local\\Temp\\ipykernel_16292\\2256598577.py:5: FutureWarning: A value is trying to be set on a copy of a DataFrame or Series through chained assignment using an inplace method.\n",
      "The behavior will change in pandas 3.0. This inplace method will never work because the intermediate object on which we are setting values always behaves as a copy.\n",
      "\n",
      "For example, when doing 'df[col].method(value, inplace=True)', try using 'df.method({col: value}, inplace=True)' or df[col] = df[col].method(value) instead, to perform the operation inplace on the original object.\n",
      "\n",
      "\n",
      "  df[column].fillna(df[column].median(), inplace=True)\n",
      "C:\\Users\\KIRAN\\AppData\\Local\\Temp\\ipykernel_16292\\2256598577.py:5: FutureWarning: A value is trying to be set on a copy of a DataFrame or Series through chained assignment using an inplace method.\n",
      "The behavior will change in pandas 3.0. This inplace method will never work because the intermediate object on which we are setting values always behaves as a copy.\n",
      "\n",
      "For example, when doing 'df[col].method(value, inplace=True)', try using 'df.method({col: value}, inplace=True)' or df[col] = df[col].method(value) instead, to perform the operation inplace on the original object.\n",
      "\n",
      "\n",
      "  df[column].fillna(df[column].median(), inplace=True)\n"
     ]
    }
   ],
   "source": [
    "df = impute_missing_values(df)"
   ]
  },
  {
   "cell_type": "code",
   "execution_count": 12,
   "id": "0096da66",
   "metadata": {},
   "outputs": [],
   "source": [
    "def analyze_zeros(df):\n",
    "    zero_counts = {}\n",
    "    for column in df.columns:\n",
    "        zero_counts[column] = (df[column] == 0).sum()\n",
    "    \n",
    "    print(\"Zero counts per column:\", zero_counts)\n"
   ]
  },
  {
   "cell_type": "code",
   "execution_count": 13,
   "id": "b3fe565f",
   "metadata": {},
   "outputs": [
    {
     "name": "stdout",
     "output_type": "stream",
     "text": [
      "Zero counts per column: {'title': np.int64(0), 'rating': np.int64(1836), 'calories': np.int64(13), 'protein': np.int64(851), 'fat': np.int64(1223), 'sodium': np.int64(61), '#cakeweek': np.int64(20046), '#wasteless': np.int64(20051), '22-minute meals': np.int64(20035), '3-ingredient recipes': np.int64(20025), '30 days of groceries': np.int64(20045), 'advance prep required': np.int64(19943), 'alabama': np.int64(20049), 'alaska': np.int64(20050), 'alcoholic': np.int64(19217), 'almond': np.int64(19468), 'amaretto': np.int64(20013), 'anchovy': np.int64(20007), 'anise': np.int64(19936), 'anniversary': np.int64(19941), 'anthony bourdain': np.int64(20050), 'aperitif': np.int64(20040), 'appetizer': np.int64(18680), 'apple': np.int64(19386), 'apple juice': np.int64(20046), 'apricot': np.int64(19783), 'arizona': np.int64(20044), 'artichoke': np.int64(19899), 'arugula': np.int64(19774), 'asian pear': np.int64(20032), 'asparagus': np.int64(19845), 'aspen': np.int64(20051), 'atlanta': np.int64(20045), 'australia': np.int64(20045), 'avocado': np.int64(19779), 'back to school': np.int64(19850), 'backyard bbq': np.int64(19114), 'bacon': np.int64(19465), 'bake': np.int64(15639), 'banana': np.int64(19875), 'barley': np.int64(20002), 'basil': np.int64(19487), 'bass': np.int64(19962), 'bastille day': np.int64(20022), 'bean': np.int64(19475), 'beef': np.int64(19241), 'beef rib': np.int64(19996), 'beef shank': np.int64(20038), 'beef tenderloin': np.int64(19980), 'beer': np.int64(19940), 'beet': np.int64(19842), 'bell pepper': np.int64(19285), 'berry': np.int64(19587), 'beverly hills': np.int64(20051), 'birthday': np.int64(19859), 'biscuit': np.int64(20045), 'bitters': np.int64(19925), 'blackberry': np.int64(19908), 'blender': np.int64(19434), 'blue cheese': np.int64(19817), 'blueberry': np.int64(19872), 'boil': np.int64(19607), 'bok choy': np.int64(19993), 'bon appétit': np.int64(10697), 'bon app��tit': np.int64(20042), 'boston': np.int64(20047), 'bourbon': np.int64(19927), 'braise': np.int64(19722), 'bran': np.int64(20049), 'brandy': np.int64(19782), 'bread': np.int64(19553), 'breadcrumbs': np.int64(19997), 'breakfast': np.int64(19340), 'brie': np.int64(20040), 'brine': np.int64(20016), 'brisket': np.int64(20014), 'broccoli': np.int64(19930), 'broccoli rabe': np.int64(20004), 'broil': np.int64(19563), 'brooklyn': np.int64(20045), 'brown rice': np.int64(20029), 'brownie': np.int64(20049), 'brunch': np.int64(19219), 'brussel sprout': np.int64(19996), 'buffalo': np.int64(20044), 'buffet': np.int64(19920), 'bulgaria': np.int64(20051), 'bulgur': np.int64(20022), 'burrito': np.int64(20051), 'butter': np.int64(19857), 'buttermilk': np.int64(19979), 'butternut squash': np.int64(19870), 'butterscotch/caramel': np.int64(20040), 'cabbage': np.int64(19745), 'cake': np.int64(19332), 'california': np.int64(19906), 'calvados': np.int64(20032), 'cambridge': np.int64(20048), 'campari': np.int64(20033), 'camping': np.int64(20051), 'canada': np.int64(20043), 'candy': np.int64(19977), 'candy thermometer': np.int64(19986), 'cantaloupe': np.int64(20001), 'capers': np.int64(19867), 'caraway': np.int64(20023), 'cardamom': np.int64(20008), 'carrot': np.int64(19351), 'cashew': np.int64(19984), 'casserole/gratin': np.int64(19853), 'cauliflower': np.int64(19932), 'caviar': np.int64(20051), 'celery': np.int64(19711), 'chambord': np.int64(20037), 'champagne': np.int64(19946), 'chard': np.int64(19967), 'chartreuse': np.int64(20034), 'cheddar': np.int64(19795), 'cheese': np.int64(18697), 'cherry': np.int64(19808), 'chestnut': np.int64(19978), 'chicago': np.int64(20048), 'chicken': np.int64(18708), 'chickpea': np.int64(19890), 'chile': np.int64(20039), 'chile pepper': np.int64(19815), 'chili': np.int64(20049), 'chill': np.int64(18926), 'chive': np.int64(19801), 'chocolate': np.int64(19197), 'christmas': np.int64(19013), 'christmas eve': np.int64(19721), 'cilantro': np.int64(19445), 'cinco de mayo': np.int64(19873), 'cinnamon': np.int64(19588), 'citrus': np.int64(19189), 'clam': np.int64(19918), 'clove': np.int64(19859), 'cobbler/crumble': np.int64(20046), 'cocktail': np.int64(19672), 'cocktail party': np.int64(18898), 'coconut': np.int64(19687), 'cod': np.int64(19976), 'coffee': np.int64(19862), 'coffee grinder': np.int64(20035), 'cognac/armagnac': np.int64(19961), 'collard greens': np.int64(20021), 'colorado': np.int64(20036), 'columbus': np.int64(20049), 'condiment': np.int64(19956), 'condiment/spread': np.int64(19128), 'connecticut': np.int64(20041), 'cook like a diner': np.int64(20048), 'cookbook critic': np.int64(20049), 'cookie': np.int64(19983), 'cookies': np.int64(19779), 'coriander': np.int64(19921), 'corn': np.int64(19681), 'cornmeal': np.int64(19781), 'costa mesa': np.int64(20051), 'cottage cheese': np.int64(20015), 'couscous': np.int64(19959), 'crab': np.int64(19896), 'cranberry': np.int64(19682), 'cranberry sauce': np.int64(20048), 'cream cheese': np.int64(19677), 'créme de cacao': np.int64(20031), 'crêpe': np.int64(20051), 'cr��me de cacao': np.int64(20051), 'cuba': np.int64(20049), 'cucumber': np.int64(19673), 'cumin': np.int64(19959), 'cupcake': np.int64(20049), 'currant': np.int64(19944), 'curry': np.int64(19779), 'custard': np.int64(20050), 'dairy': np.int64(18556), 'dairy free': np.int64(16846), 'dallas': np.int64(20047), 'date': np.int64(19929), 'deep-fry': np.int64(19960), 'denver': np.int64(20049), 'dessert': np.int64(16479), 'digestif': np.int64(20047), 'dill': np.int64(19781), 'dinner': np.int64(17347), 'dip': np.int64(20032), 'diwali': np.int64(20027), 'dominican republic': np.int64(20050), 'dorie greenspan': np.int64(20051), 'double boiler': np.int64(20020), 'dried fruit': np.int64(19846), 'drink': np.int64(18965), 'drinks': np.int64(20041), 'duck': np.int64(19953), 'easter': np.int64(19818), 'eau de vie': np.int64(20043), 'edible gift': np.int64(19932), 'egg': np.int64(18284), 'egg nog': np.int64(20043), 'eggplant': np.int64(19833), 'egypt': np.int64(20051), 'emeril lagasse': np.int64(20051), 'endive': np.int64(19940), 'engagement party': np.int64(19868), 'england': np.int64(20051), 'entertaining': np.int64(20044), 'epi + ushg': np.int64(20050), 'epi loves the microwave': np.int64(20050), 'escarole': np.int64(20009), 'fall': np.int64(17037), 'family reunion': np.int64(19736), 'fat free': np.int64(19676), \"father's day\": np.int64(19757), 'fennel': np.int64(19681), 'feta': np.int64(19823), 'fig': np.int64(19898), 'fish': np.int64(19116), 'flaming hot summer': np.int64(20040), 'flat bread': np.int64(20048), 'florida': np.int64(20009), 'fontina': np.int64(20012), 'food processor': np.int64(19079), 'fortified wine': np.int64(19976), 'fourth of july': np.int64(19676), 'france': np.int64(20039), 'frangelico': np.int64(20029), 'frankenrecipe': np.int64(20051), 'freeze/chill': np.int64(19635), 'freezer food': np.int64(20049), 'friendsgiving': np.int64(20043), 'frittata': np.int64(20050), 'fritter': np.int64(20051), 'frozen dessert': np.int64(19698), 'fruit': np.int64(18094), 'fruit juice': np.int64(19564), 'fry': np.int64(19622), 'game': np.int64(20016), 'garlic': np.int64(18409), 'georgia': np.int64(20032), 'germany': np.int64(20051), 'gin': np.int64(19826), 'ginger': np.int64(18906), 'goat cheese': np.int64(19745), 'goose': np.int64(20036), 'gouda': np.int64(20042), 'gourmet': np.int64(13404), 'graduation': np.int64(19963), 'grains': np.int64(20043), 'grand marnier': np.int64(20051), 'granola': np.int64(20047), 'grape': np.int64(19982), 'grapefruit': np.int64(19932), 'grappa': np.int64(20048), 'green bean': np.int64(19826), 'green onion/scallion': np.int64(19936), 'grill': np.int64(19488), 'grill/barbecue': np.int64(18948), 'ground beef': np.int64(19962), 'ground lamb': np.int64(20017), 'guam': np.int64(20051), 'guava': np.int64(20031), 'haiti': np.int64(20051), 'halibut': np.int64(19963), 'halloween': np.int64(20010), 'ham': np.int64(19830), 'hamburger': np.int64(20048), 'hanukkah': np.int64(19934), 'harpercollins': np.int64(19931), 'hawaii': np.int64(20048), 'hazelnut': np.int64(19870), 'healdsburg': np.int64(20050), 'healthy': np.int64(17701), 'herb': np.int64(18371), 'high fiber': np.int64(19039), 'hollywood': np.int64(20051), 'hominy/cornmeal/masa': np.int64(19968), 'honey': np.int64(19651), 'honeydew': np.int64(20012), \"hors d'oeuvre\": np.int64(20035), 'horseradish': np.int64(19886), 'hot drink': np.int64(20015), 'hot pepper': np.int64(19565), 'house & garden': np.int64(19593), 'house cocktail': np.int64(20046), 'houston': np.int64(20051), 'hummus': np.int64(20050), 'ice cream': np.int64(20040), 'ice cream machine': np.int64(19890), 'iced coffee': np.int64(20050), 'iced tea': np.int64(20034), 'idaho': np.int64(20051), 'illinois': np.int64(20044), 'indiana': np.int64(20047), 'iowa': np.int64(20051), 'ireland': np.int64(20038), 'israel': np.int64(20050), 'italy': np.int64(20046), 'jalapeño': np.int64(19691), 'jam or jelly': np.int64(19893), 'jamaica': np.int64(20051), 'japan': np.int64(20050), 'jerusalem artichoke': np.int64(20033), 'juicer': np.int64(20046), 'jícama': np.int64(20016), 'kahlúa': np.int64(20027), 'kale': np.int64(19907), 'kansas': np.int64(20049), 'kansas city': np.int64(20050), 'kentucky': np.int64(20049), 'kentucky derby': np.int64(20012), 'kid-friendly': np.int64(18261), 'kidney friendly': np.int64(17739), 'kirsch': np.int64(20021), 'kitchen olympics': np.int64(20051), 'kiwi': np.int64(20018), 'kosher': np.int64(13877), 'kosher for passover': np.int64(20021), 'kumquat': np.int64(20009), 'kwanzaa': np.int64(20039), 'labor day': np.int64(20043), 'lamb': np.int64(19693), 'lamb chop': np.int64(20007), 'lamb shank': np.int64(20034), 'lancaster': np.int64(20048), 'las vegas': np.int64(20051), 'lasagna': np.int64(20049), 'leafy green': np.int64(19149), 'leek': np.int64(19786), 'legume': np.int64(19983), 'lemon': np.int64(18948), 'lemon juice': np.int64(19898), 'lemongrass': np.int64(19968), 'lentil': np.int64(19954), 'lettuce': np.int64(19827), 'lima bean': np.int64(19997), 'lime': np.int64(19506), 'lime juice': np.int64(19919), 'lingonberry': np.int64(20047), 'liqueur': np.int64(19735), 'lobster': np.int64(19969), 'london': np.int64(20051), 'long beach': np.int64(20050), 'los angeles': np.int64(20031), 'louisiana': np.int64(20048), 'louisville': np.int64(20050), 'low cal': np.int64(19003), 'low carb': np.int64(19689), 'low cholesterol': np.int64(19607), 'low fat': np.int64(19123), 'low sodium': np.int64(19663), 'low sugar': np.int64(20038), 'low/no sugar': np.int64(19770), 'lunar new year': np.int64(20006), 'lunch': np.int64(18693), 'lychee': np.int64(20044), 'macadamia nut': np.int64(20002), 'macaroni and cheese': np.int64(20049), 'maine': np.int64(20047), 'mandoline': np.int64(20042), 'mango': np.int64(19808), 'maple syrup': np.int64(19906), 'mardi gras': np.int64(19993), 'margarita': np.int64(20032), 'marinade': np.int64(20051), 'marinate': np.int64(19451), 'marsala': np.int64(20016), 'marscarpone': np.int64(20046), 'marshmallow': np.int64(20043), 'martini': np.int64(20045), 'maryland': np.int64(20040), 'massachusetts': np.int64(20005), 'mayonnaise': np.int64(19674), 'meat': np.int64(19767), 'meatball': np.int64(20044), 'meatloaf': np.int64(20050), 'melon': np.int64(19990), 'mexico': np.int64(20047), 'mezcal': np.int64(20051), 'miami': np.int64(20050), 'michigan': np.int64(20028), 'microwave': np.int64(20015), 'midori': np.int64(20046), 'milk/cream': np.int64(18057), 'minneapolis': np.int64(20050), 'minnesota': np.int64(20041), 'mint': np.int64(19436), 'mississippi': np.int64(20051), 'missouri': np.int64(20038), 'mixer': np.int64(19422), 'molasses': np.int64(19940), 'monterey jack': np.int64(20002), 'mortar and pestle': np.int64(20050), \"mother's day\": np.int64(19887), 'mozzarella': np.int64(19862), 'muffin': np.int64(20047), 'mushroom': np.int64(19209), 'mussel': np.int64(19925), 'mustard': np.int64(19452), 'mustard greens': np.int64(20016), 'nancy silverton': np.int64(20051), 'nebraska': np.int64(20049), 'nectarine': np.int64(19992), 'new hampshire': np.int64(20051), 'new jersey': np.int64(20027), 'new mexico': np.int64(20037), 'new orleans': np.int64(20050), \"new year's day\": np.int64(19970), \"new year's eve\": np.int64(19887), 'new york': np.int64(20003), 'no meat, no problem': np.int64(20046), 'no sugar added': np.int64(16920), 'no-cook': np.int64(18801), 'non-alcoholic': np.int64(19834), 'noodle': np.int64(19890), 'north carolina': np.int64(20035), 'nut': np.int64(19147), 'nutmeg': np.int64(19944), 'oat': np.int64(19915), 'oatmeal': np.int64(20040), 'octopus': np.int64(20045), 'ohio': np.int64(20039), 'oklahoma': np.int64(20048), 'okra': np.int64(20025), 'oktoberfest': np.int64(20015), 'olive': np.int64(19496), 'omelet': np.int64(20050), 'one-pot meal': np.int64(20041), 'onion': np.int64(17814), 'orange': np.int64(19215), 'orange juice': np.int64(20000), 'oregano': np.int64(19951), 'oregon': np.int64(20033), 'organic': np.int64(20045), 'orzo': np.int64(20050), 'oscars': np.int64(19940), 'oyster': np.int64(20014), 'pacific palisades': np.int64(20051), 'paleo': np.int64(19273), 'pan-fry': np.int64(19803), 'pancake': np.int64(20047), 'papaya': np.int64(19994), 'paprika': np.int64(19997), 'parade': np.int64(19909), 'paris': np.int64(20048), 'parmesan': np.int64(19408), 'parsley': np.int64(19538), 'parsnip': np.int64(19912), 'party': np.int64(19160), 'pasadena': np.int64(20040), 'passion fruit': np.int64(20008), 'passover': np.int64(19869), 'pasta': np.int64(19084), 'pasta maker': np.int64(20040), 'pastry': np.int64(19953), 'pea': np.int64(19841), 'peach': np.int64(19858), 'peanut': np.int64(19899), 'peanut butter': np.int64(20020), 'peanut free': np.int64(11662), 'pear': np.int64(19773), 'pecan': np.int64(19721), 'pennsylvania': np.int64(20018), 'pepper': np.int64(19440), 'pernod': np.int64(19998), 'persian new year': np.int64(20048), 'persimmon': np.int64(20041), 'peru': np.int64(20050), 'pescatarian': np.int64(14010), 'philippines': np.int64(20047), 'phyllo/puff pastry dough': np.int64(19926), 'pickles': np.int64(20036), 'picnic': np.int64(19533), 'pie': np.int64(20031), 'pine nut': np.int64(19824), 'pineapple': np.int64(19788), 'pistachio': np.int64(19876), 'pittsburgh': np.int64(20040), 'pizza': np.int64(20042), 'plantain': np.int64(20031), 'plum': np.int64(19938), 'poach': np.int64(19917), 'poblano': np.int64(20045), 'poker/game night': np.int64(19917), 'pomegranate': np.int64(19975), 'pomegranate juice': np.int64(20045), 'poppy': np.int64(20032), 'pork': np.int64(19124), 'pork chop': np.int64(19959), 'pork rib': np.int64(19995), 'pork tenderloin': np.int64(19932), 'port': np.int64(19942), 'portland': np.int64(20037), 'pot pie': np.int64(20050), 'potato': np.int64(18924), 'potato salad': np.int64(20050), 'potluck': np.int64(19567), 'poultry': np.int64(19432), 'poultry sausage': np.int64(20029), 'pressure cooker': np.int64(20044), 'prosciutto': np.int64(19897), 'providence': np.int64(20051), 'prune': np.int64(19944), 'pumpkin': np.int64(19934), 'punch': np.int64(19979), 'purim': np.int64(20039), 'quail': np.int64(20037), 'quiche': np.int64(20051), 'quick & easy': np.int64(14680), 'quick and healthy': np.int64(19987), 'quince': np.int64(20021), 'quinoa': np.int64(20001), 'rabbit': np.int64(20045), 'rack of lamb': np.int64(20023), 'radicchio': np.int64(20034), 'radish': np.int64(19844), 'raisin': np.int64(19712), 'ramadan': np.int64(20013), 'ramekin': np.int64(20018), 'raspberry': np.int64(19712), 'raw': np.int64(19974), 'red wine': np.int64(19781), 'rhode island': np.int64(20044), 'rhubarb': np.int64(19972), 'rice': np.int64(19514), 'ricotta': np.int64(19892), 'roast': np.int64(18732), 'root vegetable': np.int64(19864), 'rosemary': np.int64(19681), 'rosh hashanah/yom kippur': np.int64(19984), 'rosé': np.int64(20048), 'rub': np.int64(20049), 'rum': np.int64(19721), 'rutabaga': np.int64(20008), 'rye': np.int64(20033), 'saffron': np.int64(19939), 'sage': np.int64(19870), 'sake': np.int64(20031), 'salad': np.int64(18536), 'salad dressing': np.int64(19874), 'salmon': np.int64(19737), 'salsa': np.int64(20046), 'san francisco': np.int64(20044), 'sandwich': np.int64(19624), 'sandwich theory': np.int64(20039), 'sangria': np.int64(20035), 'santa monica': np.int64(20042), 'sardine': np.int64(20048), 'sauce': np.int64(18987), 'sausage': np.int64(19668), 'sauté': np.int64(18008), 'scallop': np.int64(19882), 'scotch': np.int64(20030), 'seafood': np.int64(19651), 'seattle': np.int64(20042), 'seed': np.int64(19902), 'self': np.int64(19740), 'semolina': np.int64(20037), 'sesame': np.int64(19905), 'sesame oil': np.int64(20010), 'shallot': np.int64(19699), 'shavuot': np.int64(20031), 'shellfish': np.int64(19492), 'sherry': np.int64(19927), 'shower': np.int64(19725), 'shrimp': np.int64(19547), 'side': np.int64(16901), 'simmer': np.int64(19162), 'skewer': np.int64(20045), 'slow cooker': np.int64(20027), 'smoker': np.int64(20045), 'smoothie': np.int64(20010), 'snapper': np.int64(19993), 'sorbet': np.int64(20051), 'soufflé/meringue': np.int64(20049), 'soup/stew': np.int64(18888), 'sour cream': np.int64(19648), 'sourdough': np.int64(20051), 'south carolina': np.int64(20042), 'soy': np.int64(19941), 'soy free': np.int64(11964), 'soy sauce': np.int64(19759), 'spain': np.int64(20050), 'sparkling wine': np.int64(19998), 'spice': np.int64(19372), 'spinach': np.int64(19675), 'spirit': np.int64(19833), 'spring': np.int64(18337), 'spritzer': np.int64(20045), 'squash': np.int64(19901), 'squid': np.int64(20006), 'st. louis': np.int64(20045), \"st. patrick's day\": np.int64(19997), 'steak': np.int64(19809), 'steam': np.int64(19827), 'stew': np.int64(19874), 'stir-fry': np.int64(19825), 'stock': np.int64(20049), 'strawberry': np.int64(19744), 'stuffing/dressing': np.int64(19914), 'sugar conscious': np.int64(17586), 'sugar snap pea': np.int64(19975), 'sukkot': np.int64(20038), 'summer': np.int64(15901), 'super bowl': np.int64(19741), 'suzanne goin': np.int64(20051), 'sweet potato/yam': np.int64(19766), 'swiss cheese': np.int64(19978), 'switzerland': np.int64(20048), 'swordfish': np.int64(20036), 'taco': np.int64(20044), 'tailgating': np.int64(19923), 'tamarind': np.int64(20031), 'tangerine': np.int64(20016), 'tapioca': np.int64(20038), 'tarragon': np.int64(19812), 'tart': np.int64(20044), 'tea': np.int64(19942), 'tennessee': np.int64(20050), 'tequila': np.int64(19963), 'tested & improved': np.int64(20051), 'texas': np.int64(20029), 'thanksgiving': np.int64(18594), 'thyme': np.int64(19719), 'tilapia': np.int64(20040), 'tofu': np.int64(19960), 'tomatillo': np.int64(19970), 'tomato': np.int64(17912), 'tortillas': np.int64(19894), 'tree nut': np.int64(19945), 'tree nut free': np.int64(13008), 'triple sec': np.int64(19972), 'tropical fruit': np.int64(19990), 'trout': np.int64(19998), 'tuna': np.int64(19918), 'turnip': np.int64(19960), 'utah': np.int64(20049), \"valentine's day\": np.int64(19819), 'vanilla': np.int64(19785), 'veal': np.int64(19929), 'vegan': np.int64(18201), 'vegetable': np.int64(17965), 'vegetarian': np.int64(13206), 'venison': np.int64(20043), 'vermont': np.int64(20047), 'vermouth': np.int64(20041), 'vinegar': np.int64(19394), 'virginia': np.int64(20041), 'vodka': np.int64(19927), 'waffle': np.int64(20051), 'walnut': np.int64(19627), 'wasabi': np.int64(20029), 'washington': np.int64(20026), 'washington, d.c.': np.int64(20042), 'watercress': np.int64(19914), 'watermelon': np.int64(19980), 'wedding': np.int64(19940), 'weelicious': np.int64(20019), 'west virginia': np.int64(20051), 'westwood': np.int64(20051), 'wheat/gluten-free': np.int64(15146), 'whiskey': np.int64(19995), 'white wine': np.int64(19565), 'whole wheat': np.int64(20022), 'wild rice': np.int64(20034), 'windsor': np.int64(20051), 'wine': np.int64(19861), 'winter': np.int64(16953), 'wisconsin': np.int64(20048), 'wok': np.int64(19950), 'yellow squash': np.int64(20027), 'yogurt': np.int64(19524), 'yonkers': np.int64(20051), 'yuca': np.int64(20046), 'zucchini': np.int64(19754), 'cookbooks': np.int64(20049), 'leftovers': np.int64(20045), 'snack': np.int64(20024), 'snack week': np.int64(20033), 'turkey': np.int64(19596)}\n"
     ]
    }
   ],
   "source": [
    "analyze_zeros(df)"
   ]
  },
  {
   "cell_type": "code",
   "execution_count": 14,
   "id": "4a8e9f68",
   "metadata": {},
   "outputs": [],
   "source": [
    "def remove_duplicates(df):\n",
    "    \"\"\"\n",
    "    Removes duplicate rows from the given DataFrame.\n",
    "\n",
    "    Parameters:\n",
    "    df (pd.DataFrame): The input DataFrame from which duplicates need to be removed.\n",
    "\n",
    "    Returns:\n",
    "    pd.DataFrame: A DataFrame with duplicates removed and a summary of duplicates found.\n",
    "    \"\"\"\n",
    "    duplicate_rows = df[df.duplicated()]\n",
    "    df_cleaned = df.drop_duplicates()\n",
    "    print(f\"Total duplicate rows found: {len(duplicate_rows)}\")\n",
    "    if not duplicate_rows.empty:\n",
    "        print(\"\\nDuplicate Rows:\")\n",
    "        print(duplicate_rows)\n",
    "    \n",
    "    return df_cleaned"
   ]
  },
  {
   "cell_type": "code",
   "execution_count": 15,
   "id": "deb78ede",
   "metadata": {},
   "outputs": [
    {
     "name": "stdout",
     "output_type": "stream",
     "text": [
      "Total duplicate rows found: 1801\n",
      "\n",
      "Duplicate Rows:\n",
      "                                    title  rating  calories  protein   fat  \\\n",
      "340               Seasoned Nori Wrappers    5.000     331.0      8.0  17.0   \n",
      "521                   Spiced Pita Toasts    3.750      21.0      0.0   1.0   \n",
      "601                Orange Balsamic Glaze    3.750     194.0      2.0   3.0   \n",
      "717               Garlic Baguette Crumbs    0.000      95.0      1.0   7.0   \n",
      "805             Golden Pineapple Chutney    4.375     262.0      2.0   1.0   \n",
      "...                                   ...     ...       ...      ...   ...   \n",
      "20032                  4-3-2-1 Spice Rub    4.375      16.0      0.0   0.0   \n",
      "20039                  Cauliflower Purée    3.125     364.0     11.0  28.0   \n",
      "20041  Chicken with White Wine and Herbs    2.500     843.0     59.0  59.0   \n",
      "20042                         Date Purée    2.500     331.0      8.0  17.0   \n",
      "20045                  Blueberry Compote    3.750     182.0      1.0   0.0   \n",
      "\n",
      "       sodium  #cakeweek  #wasteless  22-minute meals  3-ingredient recipes  \\\n",
      "340     294.0        0.0         0.0              0.0                   0.0   \n",
      "521      38.0        0.0         0.0              0.0                   0.0   \n",
      "601     697.0        0.0         0.0              0.0                   0.0   \n",
      "717     103.0        0.0         0.0              0.0                   0.0   \n",
      "805     438.0        0.0         0.0              0.0                   0.0   \n",
      "...       ...        ...         ...              ...                   ...   \n",
      "20032  2292.0        0.0         0.0              0.0                   0.0   \n",
      "20039   642.0        0.0         0.0              0.0                   0.0   \n",
      "20041   351.0        0.0         0.0              0.0                   0.0   \n",
      "20042   294.0        0.0         0.0              0.0                   0.0   \n",
      "20045     3.0        0.0         0.0              0.0                   0.0   \n",
      "\n",
      "       ...  yellow squash  yogurt  yonkers  yuca  zucchini  cookbooks  \\\n",
      "340    ...            0.0     0.0      0.0   0.0       0.0        0.0   \n",
      "521    ...            0.0     0.0      0.0   0.0       0.0        0.0   \n",
      "601    ...            0.0     0.0      0.0   0.0       0.0        0.0   \n",
      "717    ...            0.0     0.0      0.0   0.0       0.0        0.0   \n",
      "805    ...            0.0     0.0      0.0   0.0       0.0        0.0   \n",
      "...    ...            ...     ...      ...   ...       ...        ...   \n",
      "20032  ...            0.0     0.0      0.0   0.0       0.0        0.0   \n",
      "20039  ...            0.0     0.0      0.0   0.0       0.0        0.0   \n",
      "20041  ...            0.0     0.0      0.0   0.0       0.0        0.0   \n",
      "20042  ...            0.0     0.0      0.0   0.0       0.0        0.0   \n",
      "20045  ...            0.0     0.0      0.0   0.0       0.0        0.0   \n",
      "\n",
      "       leftovers  snack  snack week  turkey  \n",
      "340          0.0    0.0         0.0     0.0  \n",
      "521          0.0    0.0         0.0     0.0  \n",
      "601          0.0    0.0         0.0     0.0  \n",
      "717          0.0    0.0         0.0     0.0  \n",
      "805          0.0    0.0         0.0     0.0  \n",
      "...          ...    ...         ...     ...  \n",
      "20032        0.0    0.0         0.0     0.0  \n",
      "20039        0.0    0.0         0.0     0.0  \n",
      "20041        0.0    0.0         0.0     0.0  \n",
      "20042        0.0    0.0         0.0     0.0  \n",
      "20045        0.0    0.0         0.0     0.0  \n",
      "\n",
      "[1801 rows x 680 columns]\n"
     ]
    }
   ],
   "source": [
    "df = remove_duplicates(df)"
   ]
  },
  {
   "cell_type": "code",
   "execution_count": 19,
   "id": "c182963c",
   "metadata": {},
   "outputs": [
    {
     "name": "stdout",
     "output_type": "stream",
     "text": [
      "<class 'pandas.core.frame.DataFrame'>\n",
      "Index: 18251 entries, 0 to 20051\n",
      "Columns: 680 entries, title to turkey\n",
      "dtypes: float64(679), object(1)\n",
      "memory usage: 94.8+ MB\n"
     ]
    }
   ],
   "source": [
    "df.info()\n"
   ]
  },
  {
   "cell_type": "code",
   "execution_count": 20,
   "id": "8154c2c7",
   "metadata": {},
   "outputs": [
    {
     "data": {
      "text/plain": [
       "title         Lentil, Apple, and Turkey Wrap Boudin Blanc Te...\n",
       "rating                                                  67785.0\n",
       "calories                                             97274558.0\n",
       "protein                                               1364786.0\n",
       "fat                                                   5315668.0\n",
       "                                    ...                        \n",
       "cookbooks                                                   3.0\n",
       "leftovers                                                   7.0\n",
       "snack                                                      27.0\n",
       "snack week                                                 18.0\n",
       "turkey                                                    383.0\n",
       "Length: 680, dtype: object"
      ]
     },
     "execution_count": 20,
     "metadata": {},
     "output_type": "execute_result"
    }
   ],
   "source": [
    "df.sum()"
   ]
  },
  {
   "cell_type": "code",
   "execution_count": 21,
   "id": "a7107a45",
   "metadata": {},
   "outputs": [],
   "source": [
    "df.to_csv('data.csv')"
   ]
  },
  {
   "cell_type": "code",
   "execution_count": null,
   "id": "96446f46",
   "metadata": {},
   "outputs": [],
   "source": []
  }
 ],
 "metadata": {
  "kernelspec": {
   "display_name": "venv",
   "language": "python",
   "name": "python3"
  },
  "language_info": {
   "codemirror_mode": {
    "name": "ipython",
    "version": 3
   },
   "file_extension": ".py",
   "mimetype": "text/x-python",
   "name": "python",
   "nbconvert_exporter": "python",
   "pygments_lexer": "ipython3",
   "version": "3.12.4"
  }
 },
 "nbformat": 4,
 "nbformat_minor": 5
}
